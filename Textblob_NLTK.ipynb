{
  "nbformat": 4,
  "nbformat_minor": 0,
  "metadata": {
    "colab": {
      "name": "Textblob_NLTK.ipynb",
      "version": "0.3.2",
      "provenance": [],
      "include_colab_link": true
    },
    "kernelspec": {
      "name": "python3",
      "display_name": "Python 3"
    }
  },
  "cells": [
    {
      "cell_type": "markdown",
      "metadata": {
        "id": "view-in-github",
        "colab_type": "text"
      },
      "source": [
        "<a href=\"https://colab.research.google.com/github/Edgar-Harutyunyan/Python/blob/master/Textblob_NLTK.ipynb\" target=\"_parent\"><img src=\"https://colab.research.google.com/assets/colab-badge.svg\" alt=\"Open In Colab\"/></a>"
      ]
    },
    {
      "cell_type": "code",
      "metadata": {
        "id": "nmqt0G6Lbe-p",
        "colab_type": "code",
        "colab": {}
      },
      "source": [
        "from textblob import TextBlob, Word\n",
        "import nltk\n",
        "from nltk.corpus import stopwords, wordnet\n",
        "from nltk.tokenize import sent_tokenize, word_tokenize\n",
        "from nltk.stem import PorterStemmer, WordNetLemmatizer"
      ],
      "execution_count": 0,
      "outputs": []
    },
    {
      "cell_type": "code",
      "metadata": {
        "id": "_IcC0r-Abuth",
        "colab_type": "code",
        "colab": {
          "base_uri": "https://localhost:8080/",
          "height": 832
        },
        "outputId": "b0f8a0a5-f50c-4fdd-f44e-0a9256625ea6"
      },
      "source": [
        "nltk.download('popular', halt_on_error=False)"
      ],
      "execution_count": 3,
      "outputs": [
        {
          "output_type": "stream",
          "text": [
            "[nltk_data] Downloading collection 'popular'\n",
            "[nltk_data]    | \n",
            "[nltk_data]    | Downloading package cmudict to /root/nltk_data...\n",
            "[nltk_data]    |   Unzipping corpora/cmudict.zip.\n",
            "[nltk_data]    | Downloading package gazetteers to /root/nltk_data...\n",
            "[nltk_data]    |   Unzipping corpora/gazetteers.zip.\n",
            "[nltk_data]    | Downloading package genesis to /root/nltk_data...\n",
            "[nltk_data]    |   Unzipping corpora/genesis.zip.\n",
            "[nltk_data]    | Downloading package gutenberg to /root/nltk_data...\n",
            "[nltk_data]    |   Unzipping corpora/gutenberg.zip.\n",
            "[nltk_data]    | Downloading package inaugural to /root/nltk_data...\n",
            "[nltk_data]    |   Unzipping corpora/inaugural.zip.\n",
            "[nltk_data]    | Downloading package movie_reviews to\n",
            "[nltk_data]    |     /root/nltk_data...\n",
            "[nltk_data]    |   Unzipping corpora/movie_reviews.zip.\n",
            "[nltk_data]    | Downloading package names to /root/nltk_data...\n",
            "[nltk_data]    |   Unzipping corpora/names.zip.\n",
            "[nltk_data]    | Downloading package shakespeare to /root/nltk_data...\n",
            "[nltk_data]    |   Unzipping corpora/shakespeare.zip.\n",
            "[nltk_data]    | Downloading package stopwords to /root/nltk_data...\n",
            "[nltk_data]    |   Unzipping corpora/stopwords.zip.\n",
            "[nltk_data]    | Downloading package treebank to /root/nltk_data...\n",
            "[nltk_data]    |   Unzipping corpora/treebank.zip.\n",
            "[nltk_data]    | Downloading package twitter_samples to\n",
            "[nltk_data]    |     /root/nltk_data...\n",
            "[nltk_data]    |   Unzipping corpora/twitter_samples.zip.\n",
            "[nltk_data]    | Downloading package omw to /root/nltk_data...\n",
            "[nltk_data]    |   Unzipping corpora/omw.zip.\n",
            "[nltk_data]    | Downloading package wordnet to /root/nltk_data...\n",
            "[nltk_data]    |   Unzipping corpora/wordnet.zip.\n",
            "[nltk_data]    | Downloading package wordnet_ic to /root/nltk_data...\n",
            "[nltk_data]    |   Unzipping corpora/wordnet_ic.zip.\n",
            "[nltk_data]    | Downloading package words to /root/nltk_data...\n",
            "[nltk_data]    |   Unzipping corpora/words.zip.\n",
            "[nltk_data]    | Downloading package maxent_ne_chunker to\n",
            "[nltk_data]    |     /root/nltk_data...\n",
            "[nltk_data]    |   Unzipping chunkers/maxent_ne_chunker.zip.\n",
            "[nltk_data]    | Downloading package punkt to /root/nltk_data...\n",
            "[nltk_data]    |   Unzipping tokenizers/punkt.zip.\n",
            "[nltk_data]    | Downloading package snowball_data to\n",
            "[nltk_data]    |     /root/nltk_data...\n",
            "[nltk_data]    | Downloading package averaged_perceptron_tagger to\n",
            "[nltk_data]    |     /root/nltk_data...\n",
            "[nltk_data]    |   Unzipping taggers/averaged_perceptron_tagger.zip.\n",
            "[nltk_data]    | \n",
            "[nltk_data]  Done downloading collection popular\n"
          ],
          "name": "stdout"
        },
        {
          "output_type": "execute_result",
          "data": {
            "text/plain": [
              "True"
            ]
          },
          "metadata": {
            "tags": []
          },
          "execution_count": 3
        }
      ]
    },
    {
      "cell_type": "code",
      "metadata": {
        "id": "Y6MPPzpTcfcM",
        "colab_type": "code",
        "colab": {}
      },
      "source": [
        "slayer_lyrics = \"\"\"\n",
        "Trapped in purgatory\n",
        "A lifeless object, alive\n",
        "Awaiting reprisal\n",
        "Death will be their acquiescence\n",
        "The sky is turning red\n",
        "Return to power draws near\n",
        "Fall into me, the sky's crimson tears\n",
        "Abolish the rules made of stone\n",
        "Pierced from below, souls of my treacherous past\n",
        "Betrayed by many, now ornaments dripping above\n",
        "Awaiting the hour of reprisal\n",
        "Your time slips away\n",
        "Raining blood\n",
        "From a lacerated sky\n",
        "Bleeding its horror\n",
        "Creating my structure now I shall reign in blood\n",
        "\"\"\""
      ],
      "execution_count": 0,
      "outputs": []
    },
    {
      "cell_type": "code",
      "metadata": {
        "id": "UWZfRK9ddTz-",
        "colab_type": "code",
        "colab": {}
      },
      "source": [
        "slayer_blob = TextBlob(slayer_lyrics)"
      ],
      "execution_count": 0,
      "outputs": []
    },
    {
      "cell_type": "code",
      "metadata": {
        "id": "YIM9Gr_edm9i",
        "colab_type": "code",
        "colab": {
          "base_uri": "https://localhost:8080/",
          "height": 55
        },
        "outputId": "dc6fa1b4-6cb2-47d5-fcaf-51538cb8a36e"
      },
      "source": [
        "slayer_blob.words"
      ],
      "execution_count": 6,
      "outputs": [
        {
          "output_type": "execute_result",
          "data": {
            "text/plain": [
              "WordList(['Trapped', 'in', 'purgatory', 'A', 'lifeless', 'object', 'alive', 'Awaiting', 'reprisal', 'Death', 'will', 'be', 'their', 'acquiescence', 'The', 'sky', 'is', 'turning', 'red', 'Return', 'to', 'power', 'draws', 'near', 'Fall', 'into', 'me', 'the', 'sky', \"'s\", 'crimson', 'tears', 'Abolish', 'the', 'rules', 'made', 'of', 'stone', 'Pierced', 'from', 'below', 'souls', 'of', 'my', 'treacherous', 'past', 'Betrayed', 'by', 'many', 'now', 'ornaments', 'dripping', 'above', 'Awaiting', 'the', 'hour', 'of', 'reprisal', 'Your', 'time', 'slips', 'away', 'Raining', 'blood', 'From', 'a', 'lacerated', 'sky', 'Bleeding', 'its', 'horror', 'Creating', 'my', 'structure', 'now', 'I', 'shall', 'reign', 'in', 'blood'])"
            ]
          },
          "metadata": {
            "tags": []
          },
          "execution_count": 6
        }
      ]
    },
    {
      "cell_type": "code",
      "metadata": {
        "id": "sEW-pwdNdpjF",
        "colab_type": "code",
        "colab": {}
      },
      "source": [
        "freq = nltk.FreqDist(slayer_blob.words)"
      ],
      "execution_count": 0,
      "outputs": []
    },
    {
      "cell_type": "code",
      "metadata": {
        "id": "aN_9v-UCd-zU",
        "colab_type": "code",
        "colab": {
          "base_uri": "https://localhost:8080/",
          "height": 35
        },
        "outputId": "fba528a5-1cfc-4bbc-f158-c829ee8f11d7"
      },
      "source": [
        "print(freq)"
      ],
      "execution_count": 8,
      "outputs": [
        {
          "output_type": "stream",
          "text": [
            "<FreqDist with 68 samples and 80 outcomes>\n"
          ],
          "name": "stdout"
        }
      ]
    },
    {
      "cell_type": "code",
      "metadata": {
        "id": "pyXv3blKeBbw",
        "colab_type": "code",
        "colab": {
          "base_uri": "https://localhost:8080/",
          "height": 341
        },
        "outputId": "e6c70926-6f3f-4451-ef94-e6fafc0ecb68"
      },
      "source": [
        "freq.plot()"
      ],
      "execution_count": 9,
      "outputs": [
        {
          "output_type": "display_data",
          "data": {
            "image/png": "[encoded data removed]",
            "text/plain": [
              "<Figure size 432x288 with 1 Axes>"
            ]
          },
          "metadata": {
            "tags": []
          }
        }
      ]
    },
    {
      "cell_type": "code",
      "metadata": {
        "id": "dRHnPPGFeGJY",
        "colab_type": "code",
        "colab": {}
      },
      "source": [
        "w1 = Word(\"studied\")\n",
        "w2 = Word(\"danced\")"
      ],
      "execution_count": 0,
      "outputs": []
    },
    {
      "cell_type": "code",
      "metadata": {
        "id": "rVw_3q3Zk6D2",
        "colab_type": "code",
        "colab": {
          "base_uri": "https://localhost:8080/",
          "height": 35
        },
        "outputId": "67083f07-8743-4a3e-84f7-9b04ccab93f9"
      },
      "source": [
        "w1.lemmatize(\"v\")"
      ],
      "execution_count": 11,
      "outputs": [
        {
          "output_type": "execute_result",
          "data": {
            "text/plain": [
              "'study'"
            ]
          },
          "metadata": {
            "tags": []
          },
          "execution_count": 11
        }
      ]
    },
    {
      "cell_type": "code",
      "metadata": {
        "id": "j7CFFQaYk-ze",
        "colab_type": "code",
        "colab": {
          "base_uri": "https://localhost:8080/",
          "height": 35
        },
        "outputId": "15a8f976-35fb-4410-9bdb-59a27490312a"
      },
      "source": [
        "w2.lemmatize(\"v\")"
      ],
      "execution_count": 12,
      "outputs": [
        {
          "output_type": "execute_result",
          "data": {
            "text/plain": [
              "'dance'"
            ]
          },
          "metadata": {
            "tags": []
          },
          "execution_count": 12
        }
      ]
    },
    {
      "cell_type": "code",
      "metadata": {
        "id": "wSgYW2cHlHAl",
        "colab_type": "code",
        "colab": {
          "base_uri": "https://localhost:8080/",
          "height": 55
        },
        "outputId": "fac0c53b-6e29-4ed9-deed-50c2ef72df76"
      },
      "source": [
        "slayer_blob.words"
      ],
      "execution_count": 13,
      "outputs": [
        {
          "output_type": "execute_result",
          "data": {
            "text/plain": [
              "WordList(['Trapped', 'in', 'purgatory', 'A', 'lifeless', 'object', 'alive', 'Awaiting', 'reprisal', 'Death', 'will', 'be', 'their', 'acquiescence', 'The', 'sky', 'is', 'turning', 'red', 'Return', 'to', 'power', 'draws', 'near', 'Fall', 'into', 'me', 'the', 'sky', \"'s\", 'crimson', 'tears', 'Abolish', 'the', 'rules', 'made', 'of', 'stone', 'Pierced', 'from', 'below', 'souls', 'of', 'my', 'treacherous', 'past', 'Betrayed', 'by', 'many', 'now', 'ornaments', 'dripping', 'above', 'Awaiting', 'the', 'hour', 'of', 'reprisal', 'Your', 'time', 'slips', 'away', 'Raining', 'blood', 'From', 'a', 'lacerated', 'sky', 'Bleeding', 'its', 'horror', 'Creating', 'my', 'structure', 'now', 'I', 'shall', 'reign', 'in', 'blood'])"
            ]
          },
          "metadata": {
            "tags": []
          },
          "execution_count": 13
        }
      ]
    },
    {
      "cell_type": "code",
      "metadata": {
        "id": "6VpGW1pIlZQk",
        "colab_type": "code",
        "colab": {
          "base_uri": "https://localhost:8080/",
          "height": 1000
        },
        "outputId": "7dd9d735-7b6b-4f35-c0a7-178aa80b3cfe"
      },
      "source": [
        "for i in slayer_blob.words:\n",
        "  print(i, Word(i.lower()).lemmatize(\"v\"))"
      ],
      "execution_count": 18,
      "outputs": [
        {
          "output_type": "stream",
          "text": [
            "Trapped trap\n",
            "in in\n",
            "purgatory purgatory\n",
            "A a\n",
            "lifeless lifeless\n",
            "object object\n",
            "alive alive\n",
            "Awaiting await\n",
            "reprisal reprisal\n",
            "Death death\n",
            "will will\n",
            "be be\n",
            "their their\n",
            "acquiescence acquiescence\n",
            "The the\n",
            "sky sky\n",
            "is be\n",
            "turning turn\n",
            "red red\n",
            "Return return\n",
            "to to\n",
            "power power\n",
            "draws draw\n",
            "near near\n",
            "Fall fall\n",
            "into into\n",
            "me me\n",
            "the the\n",
            "sky sky\n",
            "'s 's\n",
            "crimson crimson\n",
            "tears tear\n",
            "Abolish abolish\n",
            "the the\n",
            "rules rule\n",
            "made make\n",
            "of of\n",
            "stone stone\n",
            "Pierced pierce\n",
            "from from\n",
            "below below\n",
            "souls souls\n",
            "of of\n",
            "my my\n",
            "treacherous treacherous\n",
            "past past\n",
            "Betrayed betray\n",
            "by by\n",
            "many many\n",
            "now now\n",
            "ornaments ornament\n",
            "dripping drip\n",
            "above above\n",
            "Awaiting await\n",
            "the the\n",
            "hour hour\n",
            "of of\n",
            "reprisal reprisal\n",
            "Your your\n",
            "time time\n",
            "slips slip\n",
            "away away\n",
            "Raining rain\n",
            "blood blood\n",
            "From from\n",
            "a a\n",
            "lacerated lacerate\n",
            "sky sky\n",
            "Bleeding bleed\n",
            "its its\n",
            "horror horror\n",
            "Creating create\n",
            "my my\n",
            "structure structure\n",
            "now now\n",
            "I i\n",
            "shall shall\n",
            "reign reign\n",
            "in in\n",
            "blood blood\n"
          ],
          "name": "stdout"
        }
      ]
    },
    {
      "cell_type": "code",
      "metadata": {
        "id": "2WyePyoTlhn6",
        "colab_type": "code",
        "colab": {
          "base_uri": "https://localhost:8080/",
          "height": 312
        },
        "outputId": "bbb36a40-2730-4d70-b271-af0c80bdc113"
      },
      "source": [
        "slayer_blob.sentences"
      ],
      "execution_count": 19,
      "outputs": [
        {
          "output_type": "execute_result",
          "data": {
            "text/plain": [
              "[Sentence(\"\n",
              " Trapped in purgatory\n",
              " A lifeless object, alive\n",
              " Awaiting reprisal\n",
              " Death will be their acquiescence\n",
              " The sky is turning red\n",
              " Return to power draws near\n",
              " Fall into me, the sky's crimson tears\n",
              " Abolish the rules made of stone\n",
              " Pierced from below, souls of my treacherous past\n",
              " Betrayed by many, now ornaments dripping above\n",
              " Awaiting the hour of reprisal\n",
              " Your time slips away\n",
              " Raining blood\n",
              " From a lacerated sky\n",
              " Bleeding its horror\n",
              " Creating my structure now I shall reign in blood\")]"
            ]
          },
          "metadata": {
            "tags": []
          },
          "execution_count": 19
        }
      ]
    },
    {
      "cell_type": "code",
      "metadata": {
        "id": "gA8N4uLCmzE6",
        "colab_type": "code",
        "colab": {
          "base_uri": "https://localhost:8080/",
          "height": 1000
        },
        "outputId": "1b66e39b-5eba-4cf7-84a6-aacdcac6d3aa"
      },
      "source": [
        "slayer_blob.tags"
      ],
      "execution_count": 24,
      "outputs": [
        {
          "output_type": "execute_result",
          "data": {
            "text/plain": [
              "[('Trapped', 'VBN'),\n",
              " ('in', 'IN'),\n",
              " ('purgatory', 'NN'),\n",
              " ('A', 'NNP'),\n",
              " ('lifeless', 'NN'),\n",
              " ('object', 'NN'),\n",
              " ('alive', 'JJ'),\n",
              " ('Awaiting', 'NNP'),\n",
              " ('reprisal', 'NN'),\n",
              " ('Death', 'NNP'),\n",
              " ('will', 'MD'),\n",
              " ('be', 'VB'),\n",
              " ('their', 'PRP$'),\n",
              " ('acquiescence', 'NN'),\n",
              " ('The', 'DT'),\n",
              " ('sky', 'NN'),\n",
              " ('is', 'VBZ'),\n",
              " ('turning', 'VBG'),\n",
              " ('red', 'JJ'),\n",
              " ('Return', 'NNP'),\n",
              " ('to', 'TO'),\n",
              " ('power', 'NN'),\n",
              " ('draws', 'NN'),\n",
              " ('near', 'IN'),\n",
              " ('Fall', 'NNP'),\n",
              " ('into', 'IN'),\n",
              " ('me', 'PRP'),\n",
              " ('the', 'DT'),\n",
              " ('sky', 'NN'),\n",
              " (\"'s\", 'POS'),\n",
              " ('crimson', 'JJ'),\n",
              " ('tears', 'NNS'),\n",
              " ('Abolish', 'VBP'),\n",
              " ('the', 'DT'),\n",
              " ('rules', 'NNS'),\n",
              " ('made', 'VBN'),\n",
              " ('of', 'IN'),\n",
              " ('stone', 'NN'),\n",
              " ('Pierced', 'NNP'),\n",
              " ('from', 'IN'),\n",
              " ('below', 'IN'),\n",
              " ('souls', 'NN'),\n",
              " ('of', 'IN'),\n",
              " ('my', 'PRP$'),\n",
              " ('treacherous', 'JJ'),\n",
              " ('past', 'JJ'),\n",
              " ('Betrayed', 'NNP'),\n",
              " ('by', 'IN'),\n",
              " ('many', 'JJ'),\n",
              " ('now', 'RB'),\n",
              " ('ornaments', 'VBZ'),\n",
              " ('dripping', 'VBG'),\n",
              " ('above', 'IN'),\n",
              " ('Awaiting', 'VBG'),\n",
              " ('the', 'DT'),\n",
              " ('hour', 'NN'),\n",
              " ('of', 'IN'),\n",
              " ('reprisal', 'NN'),\n",
              " ('Your', 'PRP$'),\n",
              " ('time', 'NN'),\n",
              " ('slips', 'VBZ'),\n",
              " ('away', 'RB'),\n",
              " ('Raining', 'VBG'),\n",
              " ('blood', 'NN'),\n",
              " ('From', 'IN'),\n",
              " ('a', 'DT'),\n",
              " ('lacerated', 'VBN'),\n",
              " ('sky', 'NN'),\n",
              " ('Bleeding', 'VBG'),\n",
              " ('its', 'PRP$'),\n",
              " ('horror', 'NN'),\n",
              " ('Creating', 'NNP'),\n",
              " ('my', 'PRP$'),\n",
              " ('structure', 'NN'),\n",
              " ('now', 'RB'),\n",
              " ('I', 'PRP'),\n",
              " ('shall', 'MD'),\n",
              " ('reign', 'VB'),\n",
              " ('in', 'IN'),\n",
              " ('blood', 'NN')]"
            ]
          },
          "metadata": {
            "tags": []
          },
          "execution_count": 24
        }
      ]
    },
    {
      "cell_type": "code",
      "metadata": {
        "id": "rEjOSqgznKyd",
        "colab_type": "code",
        "colab": {
          "base_uri": "https://localhost:8080/",
          "height": 69
        },
        "outputId": "0d10b332-0e01-435d-b868-ad433aea539e"
      },
      "source": [
        "w2.definitions"
      ],
      "execution_count": 25,
      "outputs": [
        {
          "output_type": "execute_result",
          "data": {
            "text/plain": [
              "['move in a graceful and rhythmical way',\n",
              " 'move in a pattern; usually to musical accompaniment; do or perform a dance',\n",
              " 'skip, leap, or move up and down or sideways']"
            ]
          },
          "metadata": {
            "tags": []
          },
          "execution_count": 25
        }
      ]
    },
    {
      "cell_type": "code",
      "metadata": {
        "id": "QaRWYVAbnnSZ",
        "colab_type": "code",
        "colab": {
          "base_uri": "https://localhost:8080/",
          "height": 139
        },
        "outputId": "02db8e8c-aa86-42aa-bf74-19ece158e906"
      },
      "source": [
        "w1.definitions"
      ],
      "execution_count": 26,
      "outputs": [
        {
          "output_type": "execute_result",
          "data": {
            "text/plain": [
              "['consider in detail and subject to an analysis in order to discover essential features or meaning',\n",
              " 'be a student; follow a course of study; be enrolled at an institute of learning',\n",
              " 'give careful consideration to',\n",
              " 'be a student of a certain subject',\n",
              " 'learn by reading books; I must hit the books now\"',\n",
              " 'think intently and at length, as for spiritual purposes',\n",
              " 'produced or marked by conscious design or premeditation']"
            ]
          },
          "metadata": {
            "tags": []
          },
          "execution_count": 26
        }
      ]
    },
    {
      "cell_type": "code",
      "metadata": {
        "id": "myMm_3rznug9",
        "colab_type": "code",
        "colab": {
          "base_uri": "https://localhost:8080/",
          "height": 139
        },
        "outputId": "a19792db-fe26-4e92-eb68-228207521ae0"
      },
      "source": [
        "w1.define()"
      ],
      "execution_count": 28,
      "outputs": [
        {
          "output_type": "execute_result",
          "data": {
            "text/plain": [
              "['consider in detail and subject to an analysis in order to discover essential features or meaning',\n",
              " 'be a student; follow a course of study; be enrolled at an institute of learning',\n",
              " 'give careful consideration to',\n",
              " 'be a student of a certain subject',\n",
              " 'learn by reading books; I must hit the books now\"',\n",
              " 'think intently and at length, as for spiritual purposes',\n",
              " 'produced or marked by conscious design or premeditation']"
            ]
          },
          "metadata": {
            "tags": []
          },
          "execution_count": 28
        }
      ]
    },
    {
      "cell_type": "code",
      "metadata": {
        "id": "WxPaEBVun3Zd",
        "colab_type": "code",
        "colab": {}
      },
      "source": [
        "w3 = Word(\"buisenss\")"
      ],
      "execution_count": 0,
      "outputs": []
    },
    {
      "cell_type": "code",
      "metadata": {
        "id": "LZU4rzKfn_kK",
        "colab_type": "code",
        "colab": {
          "base_uri": "https://localhost:8080/",
          "height": 35
        },
        "outputId": "c9ec0828-f420-4b41-d096-7fdb8b7e36f4"
      },
      "source": [
        "w3.spellcheck()"
      ],
      "execution_count": 30,
      "outputs": [
        {
          "output_type": "execute_result",
          "data": {
            "text/plain": [
              "[('business', 1.0)]"
            ]
          },
          "metadata": {
            "tags": []
          },
          "execution_count": 30
        }
      ]
    },
    {
      "cell_type": "code",
      "metadata": {
        "id": "T655-SThoOcj",
        "colab_type": "code",
        "colab": {
          "base_uri": "https://localhost:8080/",
          "height": 35
        },
        "outputId": "05723c48-c41e-4ae8-ed9d-7e9f09e2457a"
      },
      "source": [
        "w3.correct()"
      ],
      "execution_count": 32,
      "outputs": [
        {
          "output_type": "execute_result",
          "data": {
            "text/plain": [
              "'business'"
            ]
          },
          "metadata": {
            "tags": []
          },
          "execution_count": 32
        }
      ]
    },
    {
      "cell_type": "code",
      "metadata": {
        "id": "s80moiEKoZms",
        "colab_type": "code",
        "colab": {
          "base_uri": "https://localhost:8080/",
          "height": 139
        },
        "outputId": "c780462e-165f-4f19-dcf2-4d2ceaf8e8ec"
      },
      "source": [
        "w1.synsets"
      ],
      "execution_count": 33,
      "outputs": [
        {
          "output_type": "execute_result",
          "data": {
            "text/plain": [
              "[Synset('analyze.v.01'),\n",
              " Synset('study.v.02'),\n",
              " Synset('study.v.03'),\n",
              " Synset('learn.v.04'),\n",
              " Synset('study.v.05'),\n",
              " Synset('study.v.06'),\n",
              " Synset('studied.a.01')]"
            ]
          },
          "metadata": {
            "tags": []
          },
          "execution_count": 33
        }
      ]
    },
    {
      "cell_type": "code",
      "metadata": {
        "id": "Jxrt22GqosID",
        "colab_type": "code",
        "colab": {
          "base_uri": "https://localhost:8080/",
          "height": 69
        },
        "outputId": "49e70d95-e528-4b74-d2f7-4414145c026d"
      },
      "source": [
        "w1.synsets[0].examples()"
      ],
      "execution_count": 39,
      "outputs": [
        {
          "output_type": "execute_result",
          "data": {
            "text/plain": [
              "['analyze a sonnet by Shakespeare',\n",
              " 'analyze the evidence in a criminal trial',\n",
              " 'analyze your real motives']"
            ]
          },
          "metadata": {
            "tags": []
          },
          "execution_count": 39
        }
      ]
    },
    {
      "cell_type": "code",
      "metadata": {
        "id": "tZj8jPP1pFI9",
        "colab_type": "code",
        "colab": {}
      },
      "source": [
        "stemmer = PorterStemmer()"
      ],
      "execution_count": 0,
      "outputs": []
    },
    {
      "cell_type": "code",
      "metadata": {
        "id": "OFpD9m-Zpqbc",
        "colab_type": "code",
        "colab": {
          "base_uri": "https://localhost:8080/",
          "height": 35
        },
        "outputId": "6d89b77a-8c7a-4e22-93d4-d98480dd5aa9"
      },
      "source": [
        "stemmer.stem(\"Studied\")"
      ],
      "execution_count": 41,
      "outputs": [
        {
          "output_type": "execute_result",
          "data": {
            "text/plain": [
              "'studi'"
            ]
          },
          "metadata": {
            "tags": []
          },
          "execution_count": 41
        }
      ]
    },
    {
      "cell_type": "code",
      "metadata": {
        "id": "95uERVhPptq1",
        "colab_type": "code",
        "colab": {}
      },
      "source": [
        "sw = stopwords.words('english')"
      ],
      "execution_count": 0,
      "outputs": []
    },
    {
      "cell_type": "code",
      "metadata": {
        "id": "p38M6_sQqnp5",
        "colab_type": "code",
        "colab": {
          "base_uri": "https://localhost:8080/",
          "height": 55
        },
        "outputId": "02f32fd7-b595-42c2-f5f7-90d43abcd74a"
      },
      "source": [
        "print(sw)"
      ],
      "execution_count": 45,
      "outputs": [
        {
          "output_type": "stream",
          "text": [
            "['i', 'me', 'my', 'myself', 'we', 'our', 'ours', 'ourselves', 'you', \"you're\", \"you've\", \"you'll\", \"you'd\", 'your', 'yours', 'yourself', 'yourselves', 'he', 'him', 'his', 'himself', 'she', \"she's\", 'her', 'hers', 'herself', 'it', \"it's\", 'its', 'itself', 'they', 'them', 'their', 'theirs', 'themselves', 'what', 'which', 'who', 'whom', 'this', 'that', \"that'll\", 'these', 'those', 'am', 'is', 'are', 'was', 'were', 'be', 'been', 'being', 'have', 'has', 'had', 'having', 'do', 'does', 'did', 'doing', 'a', 'an', 'the', 'and', 'but', 'if', 'or', 'because', 'as', 'until', 'while', 'of', 'at', 'by', 'for', 'with', 'about', 'against', 'between', 'into', 'through', 'during', 'before', 'after', 'above', 'below', 'to', 'from', 'up', 'down', 'in', 'out', 'on', 'off', 'over', 'under', 'again', 'further', 'then', 'once', 'here', 'there', 'when', 'where', 'why', 'how', 'all', 'any', 'both', 'each', 'few', 'more', 'most', 'other', 'some', 'such', 'no', 'nor', 'not', 'only', 'own', 'same', 'so', 'than', 'too', 'very', 's', 't', 'can', 'will', 'just', 'don', \"don't\", 'should', \"should've\", 'now', 'd', 'll', 'm', 'o', 're', 've', 'y', 'ain', 'aren', \"aren't\", 'couldn', \"couldn't\", 'didn', \"didn't\", 'doesn', \"doesn't\", 'hadn', \"hadn't\", 'hasn', \"hasn't\", 'haven', \"haven't\", 'isn', \"isn't\", 'ma', 'mightn', \"mightn't\", 'mustn', \"mustn't\", 'needn', \"needn't\", 'shan', \"shan't\", 'shouldn', \"shouldn't\", 'wasn', \"wasn't\", 'weren', \"weren't\", 'won', \"won't\", 'wouldn', \"wouldn't\"]\n"
          ],
          "name": "stdout"
        }
      ]
    },
    {
      "cell_type": "code",
      "metadata": {
        "id": "SrnJi2Opqvbk",
        "colab_type": "code",
        "colab": {
          "base_uri": "https://localhost:8080/",
          "height": 884
        },
        "outputId": "258721ff-0db1-414e-b7e9-48d9e5ab13a2"
      },
      "source": [
        "[i for i in slayer_blob.words.lower() if i not in sw]"
      ],
      "execution_count": 48,
      "outputs": [
        {
          "output_type": "execute_result",
          "data": {
            "text/plain": [
              "['trapped',\n",
              " 'purgatory',\n",
              " 'lifeless',\n",
              " 'object',\n",
              " 'alive',\n",
              " 'awaiting',\n",
              " 'reprisal',\n",
              " 'death',\n",
              " 'acquiescence',\n",
              " 'sky',\n",
              " 'turning',\n",
              " 'red',\n",
              " 'return',\n",
              " 'power',\n",
              " 'draws',\n",
              " 'near',\n",
              " 'fall',\n",
              " 'sky',\n",
              " \"'s\",\n",
              " 'crimson',\n",
              " 'tears',\n",
              " 'abolish',\n",
              " 'rules',\n",
              " 'made',\n",
              " 'stone',\n",
              " 'pierced',\n",
              " 'souls',\n",
              " 'treacherous',\n",
              " 'past',\n",
              " 'betrayed',\n",
              " 'many',\n",
              " 'ornaments',\n",
              " 'dripping',\n",
              " 'awaiting',\n",
              " 'hour',\n",
              " 'reprisal',\n",
              " 'time',\n",
              " 'slips',\n",
              " 'away',\n",
              " 'raining',\n",
              " 'blood',\n",
              " 'lacerated',\n",
              " 'sky',\n",
              " 'bleeding',\n",
              " 'horror',\n",
              " 'creating',\n",
              " 'structure',\n",
              " 'shall',\n",
              " 'reign',\n",
              " 'blood']"
            ]
          },
          "metadata": {
            "tags": []
          },
          "execution_count": 48
        }
      ]
    },
    {
      "cell_type": "code",
      "metadata": {
        "id": "VM9RBZ7_rA3H",
        "colab_type": "code",
        "colab": {}
      },
      "source": [
        ""
      ],
      "execution_count": 0,
      "outputs": []
    }
  ]
}