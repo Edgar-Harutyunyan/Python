{
  "nbformat": 4,
  "nbformat_minor": 0,
  "metadata": {
    "colab": {
      "name": "meu.am.ipynb",
      "version": "0.3.2",
      "provenance": [],
      "include_colab_link": true
    },
    "kernelspec": {
      "name": "python3",
      "display_name": "Python 3"
    }
  },
  "cells": [
    {
      "cell_type": "markdown",
      "metadata": {
        "id": "view-in-github",
        "colab_type": "text"
      },
      "source": [
        "<a href=\"https://colab.research.google.com/github/Edgar-Harutyunyan/Python/blob/master/meu_am.ipynb\" target=\"_parent\"><img src=\"https://colab.research.google.com/assets/colab-badge.svg\" alt=\"Open In Colab\"/></a>"
      ]
    },
    {
      "cell_type": "code",
      "metadata": {
        "id": "XfEOPfuvrtI1",
        "colab_type": "code",
        "colab": {}
      },
      "source": [
        "import re\n",
        "import time\n",
        "import requests\n",
        "import numpy as np\n",
        "from textblob import TextBlob, Word\n",
        "from scrapy.http import TextResponse\n",
        "import pandas as pd"
      ],
      "execution_count": 0,
      "outputs": []
    },
    {
      "cell_type": "code",
      "metadata": {
        "id": "GTweaINWsGug",
        "colab_type": "code",
        "colab": {}
      },
      "source": [
        "url = \"https://www.menu.am/en/yerevan/delivery/restaurant/tsirani.html\"\n",
        "page = requests.get(url)\n",
        "response = TextResponse (url=page.url, body=page.text, encoding=\"utf-8\")"
      ],
      "execution_count": 0,
      "outputs": []
    },
    {
      "cell_type": "code",
      "metadata": {
        "id": "IribCt-CsPUT",
        "colab_type": "code",
        "colab": {}
      },
      "source": [
        "names=response.css(\"a[class*='prod_content_a']::attr(title)\").extract()"
      ],
      "execution_count": 0,
      "outputs": []
    },
    {
      "cell_type": "code",
      "metadata": {
        "id": "SahFvIwDsmkt",
        "colab_type": "code",
        "colab": {}
      },
      "source": [
        "prices=response.css(\"div[class='price']::text\").re(\"\\d+\")"
      ],
      "execution_count": 0,
      "outputs": []
    },
    {
      "cell_type": "code",
      "metadata": {
        "id": "nUdIohWuwBSc",
        "colab_type": "code",
        "colab": {}
      },
      "source": [
        "url = \"https://www.menu.am\"\n",
        "page = requests.get(url)\n",
        "response = TextResponse (url=page.url, body=page.text, encoding=\"utf-8\")"
      ],
      "execution_count": 0,
      "outputs": []
    },
    {
      "cell_type": "code",
      "metadata": {
        "id": "lGuttISBsnjz",
        "colab_type": "code",
        "colab": {}
      },
      "source": [
        "full_urls = [url[:-1]+i for i in response.css(\"div[class='fl list-logo'] > a::attr(href)\").extract()]"
      ],
      "execution_count": 0,
      "outputs": []
    },
    {
      "cell_type": "code",
      "metadata": {
        "id": "JYiq_2IGwqZS",
        "colab_type": "code",
        "colab": {}
      },
      "source": [
        "for i in full_urls[:2]:\n",
        "  page = requests.get(i)\n",
        "  response = TextResponse(url = page.url, body=page.text, encoding=\"utf-8\")\n",
        "  name.append(response.css(\"div[class ='fl prod-content']>a:text\").re(\"\\s(.*)\"))\n",
        "  price.append(response.css('div[class=]'))"
      ],
      "execution_count": 0,
      "outputs": []
    }
  ]
}